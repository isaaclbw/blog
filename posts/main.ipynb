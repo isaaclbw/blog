{
 "cells": [
  {
   "cell_type": "raw",
   "metadata": {
    "vscode": {
     "languageId": "raw"
    }
   },
   "source": [
    "---\n",
    "title: \"Your Post Title Here\"\n",
    "format: html\n",
    "author: \"Isaac Beight-Welland\"\n",
    "date: last-modified\n",
    "categories: [category1, category2, category3]\n",
    "image: \"image.jpg\"\n",
    "description: \"Brief description of your post for social media and search engines\"\n",
    "---"
   ]
  },
  {
   "cell_type": "markdown",
   "metadata": {},
   "source": [
    "# Introduction\n",
    "\n",
    "Write your introduction here. This template includes the standard setup for importing blog utilities and common patterns you might use."
   ]
  },
  {
   "cell_type": "code",
   "execution_count": 2,
   "metadata": {},
   "outputs": [],
   "source": [
    "#| include: false\n",
    "# Standard imports and setup (hidden from rendered output)\n",
    "import pandas as pd\n",
    "import numpy as np\n",
    "import matplotlib.pyplot as plt\n",
    "\n",
    "# Set up plotting style\n",
    "plt.style.use('default')"
   ]
  },
  {
   "cell_type": "code",
   "execution_count": 1,
   "metadata": {},
   "outputs": [
    {
     "ename": "ModuleNotFoundError",
     "evalue": "No module named 'blog_utils'",
     "output_type": "error",
     "traceback": [
      "\u001b[31m---------------------------------------------------------------------------\u001b[39m",
      "\u001b[31mModuleNotFoundError\u001b[39m                       Traceback (most recent call last)",
      "\u001b[36mCell\u001b[39m\u001b[36m \u001b[39m\u001b[32mIn[1]\u001b[39m\u001b[32m, line 13\u001b[39m\n\u001b[32m     10\u001b[39m     sys.path.insert(\u001b[32m0\u001b[39m, posts_dir)\n\u001b[32m     12\u001b[39m \u001b[38;5;66;03m# Import blog utility functions\u001b[39;00m\n\u001b[32m---> \u001b[39m\u001b[32m13\u001b[39m \u001b[38;5;28;01mfrom\u001b[39;00m\u001b[38;5;250m \u001b[39m\u001b[34;01mblog_utils\u001b[39;00m\u001b[38;5;250m \u001b[39m\u001b[38;5;28;01mimport\u001b[39;00m *\n\u001b[32m     15\u001b[39m \u001b[38;5;28mprint\u001b[39m(\u001b[33m\"\u001b[39m\u001b[33m✅ Blog utilities imported successfully!\u001b[39m\u001b[33m\"\u001b[39m)\n",
      "\u001b[31mModuleNotFoundError\u001b[39m: No module named 'blog_utils'"
     ]
    }
   ],
   "source": [
    "#| include: false\n",
    "# Import blog utilities (Solution 1 - Recommended)\n",
    "# This cell is hidden from the rendered output\n",
    "import sys\n",
    "import os\n",
    "\n",
    "# Add posts directory to Python path\n",
    "posts_dir = os.path.dirname(os.getcwd())\n",
    "if posts_dir not in sys.path:\n",
    "    sys.path.insert(0, posts_dir)\n",
    "\n",
    "# Import blog utility functions\n",
    "from blog_utils import *\n",
    "\n",
    "print(\"✅ Blog utilities imported successfully!\")"
   ]
  },
  {
   "cell_type": "markdown",
   "metadata": {},
   "source": [
    "## Your Content Here\n",
    "\n",
    "Replace this section with your actual content. Here are some examples of using the blog utilities:"
   ]
  },
  {
   "cell_type": "code",
   "execution_count": null,
   "metadata": {},
   "outputs": [],
   "source": [
    "# Example: Create an info callout\n",
    "create_callout(\n",
    "    \"This is an example callout. Replace with your own content.\",\n",
    "    callout_type=\"note\",\n",
    "    title=\"Example Note\"\n",
    ")"
   ]
  },
  {
   "cell_type": "code",
   "execution_count": null,
   "metadata": {},
   "outputs": [],
   "source": [
    "# Example: Create a success alert box\n",
    "create_alert_box(\n",
    "    \"This is an example success message. Use these for important highlights.\",\n",
    "    alert_type=\"success\",\n",
    "    title=\"Key Insight\"\n",
    ")"
   ]
  },
  {
   "cell_type": "code",
   "execution_count": null,
   "metadata": {},
   "outputs": [],
   "source": [
    "# Example: Embed a responsive iframe\n",
    "# create_responsive_iframe(\"https://example.com\", aspect_ratio=0.6)\n",
    "# Uncomment and replace URL when needed"
   ]
  },
  {
   "cell_type": "markdown",
   "metadata": {},
   "source": [
    "## Data Analysis Section\n",
    "\n",
    "Add your data analysis, visualizations, and insights here."
   ]
  },
  {
   "cell_type": "code",
   "execution_count": null,
   "metadata": {},
   "outputs": [],
   "source": [
    "#| echo: false\n",
    "# Example data analysis code - code hidden, plot visible\n",
    "# Replace with your actual analysis\n",
    "\n",
    "# Sample data for demonstration\n",
    "sample_data = pd.DataFrame({\n",
    "    'x': range(10),\n",
    "    'y': np.random.randn(10).cumsum()\n",
    "})\n",
    "\n",
    "# Create a simple plot\n",
    "plt.figure(figsize=(10, 6))\n",
    "plt.plot(sample_data['x'], sample_data['y'], marker='o')\n",
    "plt.title('Sample Plot - Replace with Your Analysis')\n",
    "plt.xlabel('X-axis Label')\n",
    "plt.ylabel('Y-axis Label')\n",
    "plt.grid(True, alpha=0.3)\n",
    "plt.show()"
   ]
  },
  {
   "cell_type": "markdown",
   "metadata": {},
   "source": [
    "## Conclusion\n",
    "\n",
    "Summarize your findings and key takeaways here."
   ]
  },
  {
   "cell_type": "code",
   "execution_count": null,
   "metadata": {},
   "outputs": [],
   "source": [
    "# Final thoughts or additional resources\n",
    "create_callout(\n",
    "    \"Add your concluding thoughts or call-to-action here.\",\n",
    "    callout_type=\"tip\",\n",
    "    title=\"Next Steps\"\n",
    ")"
   ]
  }
 ],
 "metadata": {
  "kernelspec": {
   "display_name": "Python 3",
   "language": "python",
   "name": "python3"
  },
  "language_info": {
   "codemirror_mode": {
    "name": "ipython",
    "version": 3
   },
   "file_extension": ".py",
   "mimetype": "text/x-python",
   "name": "python",
   "nbconvert_exporter": "python",
   "pygments_lexer": "ipython3",
   "version": "3.13.5"
  }
 },
 "nbformat": 4,
 "nbformat_minor": 2
}
